{
 "cells": [
  {
   "cell_type": "markdown",
   "metadata": {},
   "source": [
    "### Problem 1\n",
    "\n",
    "Write a program that multiplies three numbers entered by the user. Print the output with the format method."
   ]
  },
  {
   "cell_type": "code",
   "execution_count": 2,
   "metadata": {},
   "outputs": [
    {
     "output_type": "stream",
     "name": "stdout",
     "text": [
      "Multiplication of numbers 6\n"
     ]
    }
   ],
   "source": [
    "num_1 = int(input(\"Enter first number :\"))\n",
    "num_2 = int(input(\"Enter second number :\"))\n",
    "num_3 = int(input(\"Enter third number :\"))\n",
    "result = num_1 * num_2 * num_3\n",
    "print(\"Multiplication of numbers {}\".format(result))"
   ]
  },
  {
   "cell_type": "markdown",
   "metadata": {},
   "source": [
    "### Problem 2\n",
    "\n",
    "Write a program that calculates body mass index from **height** and **weight** entered by the user. \n",
    "\n",
    "Body mass index :  Weight / Height(m) * Height(m)"
   ]
  },
  {
   "cell_type": "code",
   "execution_count": 2,
   "metadata": {},
   "outputs": [
    {
     "output_type": "stream",
     "name": "stdout",
     "text": [
      "Your body index 0.04\n"
     ]
    }
   ],
   "source": [
    "weight = float(input(\"Enter the weight as kg :\"))\n",
    "height = float(input(\"Enter the height as m :\"))\n",
    "body_index = weight / (height * height)\n",
    "print(\"Your body index {0:.2f}\".format(body_index))"
   ]
  },
  {
   "cell_type": "markdown",
   "metadata": {},
   "source": [
    "### Problem 3\n",
    "\n",
    "With your $ 200, how many pieces of material can you get for $ 11 each? How much money do you have left after buying?"
   ]
  },
  {
   "cell_type": "code",
   "execution_count": 20,
   "metadata": {},
   "outputs": [
    {
     "output_type": "stream",
     "name": "stdout",
     "text": [
      "I bought 18 pieces material with 200 and 2 left money\n"
     ]
    }
   ],
   "source": [
    "amount = 200\n",
    "price = 11\n",
    "total_piece = amount // price\n",
    "remain_money = amount % price\n",
    "print(\"I bought {} pieces of material with 200 and {} left money\".format(total_piece, remain_money))"
   ]
  },
  {
   "cell_type": "markdown",
   "metadata": {},
   "source": [
    "### Problem 4\n",
    "\n",
    "Ask the user for two numbers and assign these numbers to variables and replace the values of these variables with each other."
   ]
  },
  {
   "cell_type": "code",
   "execution_count": 18,
   "metadata": {},
   "outputs": [
    {
     "output_type": "stream",
     "name": "stdout",
     "text": [
      "First number is : 20 \nSecond number is : 15\n"
     ]
    }
   ],
   "source": [
    "num_1 = int(input(\"Enter first number :\"))\n",
    "num_2 = int(input(\"Enter second number :\"))\n",
    "x, y = num_1, num_2\n",
    "num_1 = y\n",
    "num_2 = x\n",
    "print(\"First number is :\", num_1, \"\\nSecond number is :\", num_2)"
   ]
  },
  {
   "cell_type": "markdown",
   "metadata": {},
   "source": [
    "### Problem 5\n",
    "\n",
    "Write a Python program to solve (x - y) * (x + y)."
   ]
  },
  {
   "cell_type": "code",
   "execution_count": 14,
   "metadata": {},
   "outputs": [
    {
     "output_type": "stream",
     "name": "stdout",
     "text": [
      "Result is -175\n"
     ]
    }
   ],
   "source": [
    "x = int(input(\"Enter the x value :\"))\n",
    "y = int(input(\"Enter the y value :\"))\n",
    "result = (x - y) * (x + y)\n",
    "print(\"Result is {}\".format(result))"
   ]
  },
  {
   "cell_type": "markdown",
   "metadata": {},
   "source": [
    "### Problem 6\n",
    "\n",
    "Get **word**, **seperator** and **repetition** values from the user and print the word on the screen according to the given values. \n",
    "\n",
    "Ex: word = ali sep = / repetition = 3 ----> ali/ali/ali"
   ]
  },
  {
   "cell_type": "code",
   "execution_count": 8,
   "metadata": {},
   "outputs": [
    {
     "output_type": "stream",
     "name": "stdout",
     "text": [
      "ali/ali/ali\n"
     ]
    }
   ],
   "source": [
    "words = input(\"Enter a word :\")\n",
    "a = (words + \"/\") * 3\n",
    "print(a.rstrip('/'))"
   ]
  },
  {
   "cell_type": "markdown",
   "metadata": {},
   "source": [
    "### Problem 7\n",
    "\n",
    "Get a sitring and an integer input from the user and get the output shown as in the example.\n",
    "\n",
    "Ex: word = Clarusway n = 3 OUTPUT = waywayway"
   ]
  },
  {
   "cell_type": "code",
   "execution_count": 20,
   "metadata": {},
   "outputs": [
    {
     "output_type": "stream",
     "name": "stdout",
     "text": [
      "waywayway\n"
     ]
    }
   ],
   "source": [
    "word = input(\"Enter a word :\")\n",
    "num = int(input(\"Enter a number\"))\n",
    "n = int(num % len(word))\n",
    "print(3*(word[-n:]))"
   ]
  },
  {
   "cell_type": "markdown",
   "metadata": {},
   "source": [
    "### Problem 8\n",
    "\n",
    "Get a number from the user. \n",
    "\n",
    "If the number is divided by 3 print *Clarus*, if it is divided by 5 print *way*, if it is divided by both 3 and 5 print *Clarusway*. \n",
    "\n",
    "If not, print the number itself."
   ]
  },
  {
   "cell_type": "code",
   "execution_count": 33,
   "metadata": {},
   "outputs": [
    {
     "output_type": "stream",
     "name": "stdout",
     "text": [
      "Clarusway\n"
     ]
    }
   ],
   "source": [
    "num_1 = int(input(\"Enter a number: \"))\n",
    "if (num_1 % 3 == 0) and (num_1 % 5 != 0):\n",
    "    print(\"Clarus\")\n",
    "elif (num_1 % 5 == 0)  and (num_1 % 3 != 0):\n",
    "    print(\"way\")\n",
    "elif (num_1 % 3 == 0) and (num_1 % 5 == 0) :\n",
    "    print(\"Clarusway\")\n",
    "else :\n",
    "    print(num_1)     "
   ]
  },
  {
   "cell_type": "markdown",
   "metadata": {},
   "source": [
    "### Problem 9\n",
    "letters = \"abclarusxyz\"\n",
    "- get the word **clarus** in the string\n",
    "- get the word **cba**\n",
    "- print the last eight characters in reverse order"
   ]
  },
  {
   "cell_type": "code",
   "execution_count": 35,
   "metadata": {},
   "outputs": [
    {
     "output_type": "stream",
     "name": "stdout",
     "text": [
      "clarus\n"
     ]
    }
   ],
   "source": [
    "letters = \"abclaruswayxyz\"\n",
    "print(letters.rstrip(\"wayxyz\").lstrip(\"ab\"))"
   ]
  },
  {
   "cell_type": "code",
   "execution_count": 36,
   "metadata": {},
   "outputs": [
    {
     "output_type": "stream",
     "name": "stdout",
     "text": [
      "cba\n"
     ]
    }
   ],
   "source": [
    "letters = \"abclaruswayxyz\"\n",
    "print(letters[-12::-1])"
   ]
  },
  {
   "cell_type": "code",
   "execution_count": 38,
   "metadata": {},
   "outputs": [
    {
     "output_type": "stream",
     "name": "stdout",
     "text": [
      "uswayxyz\n"
     ]
    }
   ],
   "source": [
    "letters = \"abcclaruswayxyz\"\n",
    "print(letters[7:])"
   ]
  },
  {
   "cell_type": "markdown",
   "metadata": {},
   "source": [
    "### Problem 10\n",
    "\n",
    "Print **Clarusway is the best** from the elements of the rand_list list.\n",
    "\n",
    "rand_list = [1,[1, 2, \"Clarus\", [2, \"way\"]], \" is the best\"]"
   ]
  },
  {
   "cell_type": "code",
   "execution_count": 39,
   "metadata": {},
   "outputs": [
    {
     "output_type": "stream",
     "name": "stdout",
     "text": [
      "Clarusway\n"
     ]
    }
   ],
   "source": [
    "rand_list = [1,[1, 2, \"Clarus\", 2, \"way\"], \" is the best\"]\n",
    "print(rand_list[1][2] + rand_list[1][4])"
   ]
  },
  {
   "cell_type": "markdown",
   "metadata": {},
   "source": [
    "### Problem 11\n",
    "\n",
    "Sort the list given below in ascending order. Find the missing number from 1 to 10.\n",
    "\n",
    "num_list = [2, 3, 1, 5, 6, 4, 9, 8, 10]"
   ]
  },
  {
   "cell_type": "code",
   "execution_count": 49,
   "metadata": {},
   "outputs": [
    {
     "output_type": "stream",
     "name": "stdout",
     "text": [
      "[1, 2, 3, 4, 5, 6, 8, 9, 10]\nMissing number is : [7]\n"
     ]
    }
   ],
   "source": [
    "num_list = 2, 3, 1, 5, 6, 4, 9, 8, 10\n",
    "list_1 = sorted(num_list)\n",
    "list_2 = list(range(1, 11))\n",
    "mis_number = list(set(list_2).difference(set(list_1)))\n",
    "print(list_1)\n",
    "print(\"Missing number is :\", mis_number)"
   ]
  },
  {
   "cell_type": "markdown",
   "metadata": {},
   "source": [
    "### Problem 12\n",
    "\n",
    "Print the oldest person's name?\n",
    "\n",
    "old ={\n",
    "  \"Emma\": 71,\n",
    "  \"Jack\": 45,\n",
    "  \"Amy\": 15,\n",
    "  \"Ben\": 29\n",
    "}"
   ]
  },
  {
   "cell_type": "code",
   "execution_count": 54,
   "metadata": {},
   "outputs": [
    {
     "output_type": "stream",
     "name": "stdout",
     "text": [
      "71\n"
     ]
    }
   ],
   "source": [
    "old ={ \"Emma\": 71, \"Jack\": 45, \"Amy\": 15, \"Ben\": 29 }\n",
    "print(max(old.values()))"
   ]
  },
  {
   "cell_type": "markdown",
   "metadata": {},
   "source": [
    "### Problem 13\n",
    "\n",
    "Write a Python program to sum all the items in a dictionary.\n",
    "\n",
    "my_dict = {'data1':100,'data2':-54,'data3':247}"
   ]
  },
  {
   "cell_type": "code",
   "execution_count": 58,
   "metadata": {},
   "outputs": [
    {
     "output_type": "stream",
     "name": "stdout",
     "text": [
      "Sum of datas : 293\n"
     ]
    }
   ],
   "source": [
    "my_dict = {'data1':100,'data2':-54,'data3':247}\n",
    "result = my_dict['data1'] + my_dict['data2'] + my_dict['data3']\n",
    "print(\"Sum of datas :\", result)"
   ]
  },
  {
   "cell_type": "markdown",
   "metadata": {},
   "source": [
    "### Problem 14\n",
    "\n",
    "Write a Python program to compute average of two given lists.\n",
    "\n",
    "nums1 = [1, 1, 3, 4, 4, 5, 6, 7]\n",
    "nums2 = [0, 1, 2, 3, 4, 4, 5, 7, 8]"
   ]
  },
  {
   "cell_type": "code",
   "execution_count": 73,
   "metadata": {},
   "outputs": [
    {
     "output_type": "stream",
     "name": "stdout",
     "text": [
      "Average result of list numbers 3.82\n"
     ]
    }
   ],
   "source": [
    "nums1 = 1, 1, 3, 4, 4, 5, 6, 7 \n",
    "nums2 = 0, 1, 2, 3, 4, 4, 5, 7, 8\n",
    "sum_1 = (sum(nums1) + sum(nums2))/(len(nums1)+len(nums2))\n",
    "print(\"Average result of list numbers {:.2f}\".format(sum_1))"
   ]
  },
  {
   "cell_type": "code",
   "execution_count": null,
   "metadata": {},
   "outputs": [],
   "source": []
  }
 ],
 "metadata": {
  "kernelspec": {
   "display_name": "Python 3",
   "language": "python",
   "name": "python3"
  },
  "language_info": {
   "codemirror_mode": {
    "name": "ipython",
    "version": 3
   },
   "file_extension": ".py",
   "mimetype": "text/x-python",
   "name": "python",
   "nbconvert_exporter": "python",
   "pygments_lexer": "ipython3",
   "version": "3.9.0-final"
  }
 },
 "nbformat": 4,
 "nbformat_minor": 2
}