{
 "metadata": {
  "language_info": {
   "codemirror_mode": {
    "name": "ipython",
    "version": 3
   },
   "file_extension": ".py",
   "mimetype": "text/x-python",
   "name": "python",
   "nbconvert_exporter": "python",
   "pygments_lexer": "ipython3",
   "version": "3.9.0"
  },
  "orig_nbformat": 2,
  "kernelspec": {
   "name": "python3",
   "display_name": "Python 3.9.0 64-bit"
  },
  "interpreter": {
   "hash": "43a9cd95aa030499ef934e4da31e07dde54f3fc3a1fd0cc4aeef7f16459ee2ac"
  }
 },
 "nbformat": 4,
 "nbformat_minor": 2,
 "cells": [
  {
   "cell_type": "code",
   "execution_count": 1,
   "source": [
    "a = 3\r\n",
    "while a**2 < 299:\r\n",
    "    print('I will stop smoking')\r\n",
    "    a += 3"
   ],
   "outputs": [
    {
     "output_type": "stream",
     "name": "stdout",
     "text": [
      "I will stop smoking\n",
      "I will stop smoking\n",
      "I will stop smoking\n",
      "I will stop smoking\n",
      "I will stop smoking\n"
     ]
    }
   ],
   "metadata": {}
  },
  {
   "cell_type": "code",
   "execution_count": 2,
   "source": [
    "a = 3\r\n",
    "while a**2 < 299:\r\n",
    "    print(a)\r\n",
    "    print('I will stop smoking')\r\n",
    "    a += 3"
   ],
   "outputs": [
    {
     "output_type": "stream",
     "name": "stdout",
     "text": [
      "3\n",
      "I will stop smoking\n",
      "6\n",
      "I will stop smoking\n",
      "9\n",
      "I will stop smoking\n",
      "12\n",
      "I will stop smoking\n",
      "15\n",
      "I will stop smoking\n"
     ]
    }
   ],
   "metadata": {}
  },
  {
   "cell_type": "code",
   "execution_count": 2,
   "source": [
    "total = 149\r\n",
    "country = \"FR\"\r\n",
    "\r\n",
    "if country == \"FR\":\r\n",
    "    if total <= 50:\r\n",
    "        print(\"Shipping Cost is  €30\")\r\n",
    "    elif total <= 100:\r\n",
    "        print(\"Shipping Cost is €15\")\r\n",
    "    elif total <= 150:\r\n",
    "        print(\"Shipping Costs €10\")\r\n",
    "    else:\r\n",
    "        print(\"Free Shipping\")\r\n",
    "if country == \"DE\": \r\n",
    "    if total <= 50:\r\n",
    "        print(\"Shipping Cost is  €25\")\r\n",
    "    else:\r\n",
    "        print(\"Free Shipping\")"
   ],
   "outputs": [
    {
     "output_type": "stream",
     "name": "stdout",
     "text": [
      "Shipping Costs €10\n"
     ]
    }
   ],
   "metadata": {}
  },
  {
   "cell_type": "code",
   "execution_count": 18,
   "source": [
    "saved_amount = int(input('Please enter your saved amount: '))\r\n",
    "ps4_price = 200\r\n",
    "if saved_amount <= (ps4_price/2):\r\n",
    "    print(\"You must save more, keep saving!\")\r\n",
    "elif saved_amount >= (ps4_price/2):\r\n",
    "    if saved_amount >  ps4_price:\r\n",
    "        print(\"Yippee! You can buy your PS4\")\r\n",
    "    else :\r\n",
    "        print(\"You saved more than half, keep saving!\")"
   ],
   "outputs": [
    {
     "output_type": "stream",
     "name": "stdout",
     "text": [
      "Yippee! You can buy your PS4\n"
     ]
    }
   ],
   "metadata": {}
  },
  {
   "cell_type": "code",
   "execution_count": 19,
   "source": [
    "math_mark = int(input('Please enter the mark: '))\r\n",
    "if math_mark >= 85:\r\n",
    "    print(\"A (Excellent)\")\r\n",
    "elif math_mark >= 70 and math_mark < 85:\r\n",
    "    print(\"B (Good)\")\r\n",
    "elif math_mark >= 60 and math_mark < 70:\r\n",
    "    print(\"C (Medium)\")\r\n",
    "elif math_mark >= 45 and math_mark < 60:\r\n",
    "    print(\"D (Not Bad)\")\r\n",
    "else:\r\n",
    "    print(\"F (Failed)\")"
   ],
   "outputs": [
    {
     "output_type": "stream",
     "name": "stdout",
     "text": [
      "D (Not Bad)\n"
     ]
    }
   ],
   "metadata": {}
  },
  {
   "cell_type": "code",
   "execution_count": 20,
   "source": [
    "a = 998\r\n",
    "if a >= 999 :\r\n",
    "    print(a ** 0)  \r\n",
    "\r\n",
    "else :\r\n",
    "    print(a * 2)"
   ],
   "outputs": [
    {
     "output_type": "stream",
     "name": "stdout",
     "text": [
      "1996\n"
     ]
    }
   ],
   "metadata": {}
  },
  {
   "cell_type": "code",
   "execution_count": 22,
   "source": [
    "weekdays = ['Monday', 'Tuesday', 'Wednesday', 'Thursday', 'Friday']\r\n",
    "for day in  range(len(weekdays)):\r\n",
    "    print('Day', day+1, ':', weekdays[day])"
   ],
   "outputs": [
    {
     "output_type": "stream",
     "name": "stdout",
     "text": [
      "Day 1 : Monday\n",
      "Day 2 : Tuesday\n",
      "Day 3 : Wednesday\n",
      "Day 4 : Thursday\n",
      "Day 5 : Friday\n"
     ]
    }
   ],
   "metadata": {}
  },
  {
   "cell_type": "code",
   "execution_count": 3,
   "source": [
    "number = int(input('Please enter a number: '))\r\n",
    "i = 0\r\n",
    "while i < number:\r\n",
    "    print(i**2)\r\n",
    "    i += 1"
   ],
   "outputs": [
    {
     "output_type": "stream",
     "name": "stdout",
     "text": [
      "0\n",
      "1\n",
      "4\n",
      "9\n",
      "16\n"
     ]
    }
   ],
   "metadata": {}
  },
  {
   "cell_type": "code",
   "execution_count": 4,
   "source": [
    "sample_list = [\"a\", 2, 5.2, (1,2), {\"a\":1, \"b\":2}, [1,2]]\r\n",
    "for i in range(len(sample_list)):\r\n",
    "    print(\"The type of {} is\".format(sample_list[i]), type(sample_list[i]))"
   ],
   "outputs": [
    {
     "output_type": "stream",
     "name": "stdout",
     "text": [
      "The type of a is <class 'str'>\n",
      "The type of 2 is <class 'int'>\n",
      "The type of 5.2 is <class 'float'>\n",
      "The type of (1, 2) is <class 'tuple'>\n",
      "The type of {'a': 1, 'b': 2} is <class 'dict'>\n",
      "The type of [1, 2] is <class 'list'>\n"
     ]
    }
   ],
   "metadata": {}
  },
  {
   "cell_type": "code",
   "execution_count": null,
   "source": [],
   "outputs": [],
   "metadata": {}
  }
 ]
}