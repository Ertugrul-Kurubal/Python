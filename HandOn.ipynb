{
 "metadata": {
  "language_info": {
   "codemirror_mode": {
    "name": "ipython",
    "version": 3
   },
   "file_extension": ".py",
   "mimetype": "text/x-python",
   "name": "python",
   "nbconvert_exporter": "python",
   "pygments_lexer": "ipython3",
   "version": "3.9.0"
  },
  "orig_nbformat": 2,
  "kernelspec": {
   "name": "python3",
   "display_name": "Python 3.9.0 64-bit"
  },
  "interpreter": {
   "hash": "43a9cd95aa030499ef934e4da31e07dde54f3fc3a1fd0cc4aeef7f16459ee2ac"
  }
 },
 "nbformat": 4,
 "nbformat_minor": 2,
 "cells": [
  {
   "cell_type": "code",
   "execution_count": 1,
   "source": [
    "city = 'Phoenix'\r\n",
    "print(city[1:])  # starts from index 1 to the end\r\n",
    "print(city[:6])  # starts from zero to 5th index\r\n",
    "print(city[::2])  # starts from zero to end by 2 step\r\n",
    "print(city[1::2])  # starts from index 1 to the end by 2 step\r\n",
    "print(city[-3:])  # starts from index -3 to the end\r\n",
    "print(city[::-1])  # negative step starts from the end to zero"
   ],
   "outputs": [
    {
     "output_type": "stream",
     "name": "stdout",
     "text": [
      "hoenix\n",
      "Phoeni\n",
      "Ponx\n",
      "hei\n",
      "nix\n",
      "xineohP\n"
     ]
    }
   ],
   "metadata": {}
  },
  {
   "cell_type": "code",
   "execution_count": 2,
   "source": [
    "school = \"include %d teachers and %s , %s %.2f hour\" % (2, \"students\", \"monday\", 3)\r\n",
    "print(school)"
   ],
   "outputs": [
    {
     "output_type": "stream",
     "name": "stdout",
     "text": [
      "include 2 teachers and students , monday 3.00 hour\n"
     ]
    }
   ],
   "metadata": {}
  },
  {
   "cell_type": "code",
   "execution_count": 3,
   "source": [
    "sentence = \"I am practising\"\r\n",
    "print (\"%.10s\" % sentence)"
   ],
   "outputs": [
    {
     "output_type": "stream",
     "name": "stdout",
     "text": [
      "I am pract\n"
     ]
    }
   ],
   "metadata": {}
  },
  {
   "cell_type": "code",
   "execution_count": 4,
   "source": [
    "print(\"One %(day)s will be %(place)s for %(hour).2f\" % {'day': 'monday', 'place' : 'Xvadia', 'hour' : 5})"
   ],
   "outputs": [
    {
     "output_type": "stream",
     "name": "stdout",
     "text": [
      "One monday will be Xvadia for 5.00\n"
     ]
    }
   ],
   "metadata": {}
  },
  {
   "cell_type": "code",
   "execution_count": 5,
   "source": [
    "vagetable = 'carrot'\r\n",
    "fruit = 'orange'\r\n",
    "amount = '2 kg'\r\n",
    "print('when you go bazaar don\\'t forget buy {} {} and {}' .format(amount, vagetable, fruit))"
   ],
   "outputs": [
    {
     "output_type": "stream",
     "name": "stdout",
     "text": [
      "when you go bazaar don't forget buy 2 kg carrot and orange\n"
     ]
    }
   ],
   "metadata": {}
  },
  {
   "cell_type": "code",
   "execution_count": 1,
   "source": [
    "toy = 'lorry'\r\n",
    "store = 'Chiky'\r\n",
    "output =f'I bought {toy} in {store}'\r\n",
    "print(output)"
   ],
   "outputs": [
    {
     "output_type": "stream",
     "name": "stdout",
     "text": [
      "I bought lorry in Chiky\n"
     ]
    }
   ],
   "metadata": {}
  },
  {
   "cell_type": "code",
   "execution_count": 7,
   "source": [
    "text = 'Kafacıoglan Ahmet'\r\n",
    "print(text.startswith('Kaf'))\r\n",
    "print(text.endswith('Ahmet'))"
   ],
   "outputs": [
    {
     "output_type": "stream",
     "name": "stdout",
     "text": [
      "True\n",
      "True\n"
     ]
    }
   ],
   "metadata": {}
  },
  {
   "cell_type": "code",
   "execution_count": 11,
   "source": [
    "my_email = 'antikakurubal@gmail.com'\r\n",
    "print(my_email.startswith('@', 13))\r\n",
    "print(my_email.endswith('@', 11))  # I don't understand"
   ],
   "outputs": [
    {
     "output_type": "stream",
     "name": "stdout",
     "text": [
      "True\n",
      "False\n"
     ]
    }
   ],
   "metadata": {}
  },
  {
   "cell_type": "code",
   "execution_count": 12,
   "source": [
    "sentence = 'Today weather was so rainy'\r\n",
    "print(sentence, \"1\")\r\n",
    "print(sentence.upper(), \"2\")\r\n",
    "print(sentence.lower(), \"3\")\r\n",
    "print(sentence.swapcase(), \"4\")\r\n",
    "print(sentence.title(), \"5\")\r\n",
    "print(sentence.capitalize(), \"6\")\r\n",
    "print(sentence.replace('rainy', 'hot'), \"7\")\r\n",
    "print(sentence.strip(), \"8\") # Remove all spaces from left and right\r\n",
    "print(sentence.rstrip('ny'), \"9\")\r\n",
    "print(sentence.lstrip('To'), \"10\")\r\n",
    "print(sentence.strip('Ty'), \"11\")"
   ],
   "outputs": [
    {
     "output_type": "stream",
     "name": "stdout",
     "text": [
      "Today weather was so rainy 1\n",
      "TODAY WEATHER WAS SO RAINY 2\n",
      "today weather was so rainy 3\n",
      "tODAY WEATHER WAS SO RAINY 4\n",
      "Today Weather Was So Rainy 5\n",
      "Today weather was so rainy 6\n",
      "Today weather was so hot 7\n",
      "Today weather was so rainy 8\n",
      "Today weather was so rai 9\n",
      "day weather was so rainy 10\n",
      "oday weather was so rain 11\n"
     ]
    }
   ],
   "metadata": {}
  },
  {
   "cell_type": "code",
   "execution_count": 10,
   "source": [
    "print('www', 'clarusway', \"com\", sep='.', end=' ')\r\n",
    "print('will', end=' ')\r\n",
    "print('open', end=' ')\r\n",
    "print('your', end=' ')\r\n",
    "print('path', end='.')"
   ],
   "outputs": [
    {
     "output_type": "stream",
     "name": "stdout",
     "text": [
      "www.clarusway.com will open your path."
     ]
    }
   ],
   "metadata": {}
  },
  {
   "cell_type": "code",
   "execution_count": 11,
   "source": [
    "print(\"clarusway\" + str(2020))"
   ],
   "outputs": [
    {
     "output_type": "stream",
     "name": "stdout",
     "text": [
      "clarusway2020\n"
     ]
    }
   ],
   "metadata": {}
  },
  {
   "cell_type": "code",
   "execution_count": 12,
   "source": [
    "number = 32\r\n",
    "print(number + 1988)"
   ],
   "outputs": [
    {
     "output_type": "stream",
     "name": "stdout",
     "text": [
      "2020\n"
     ]
    }
   ],
   "metadata": {}
  },
  {
   "cell_type": "code",
   "execution_count": 13,
   "source": [
    "print(\"{4} {9} {1} {7} {5} {0} {6} {8} {3} {2}\".format('while', 'dream', 'work.', 'and', 'Some', 'success', 'others', 'of', 'wake up', 'people'))"
   ],
   "outputs": [
    {
     "output_type": "stream",
     "name": "stdout",
     "text": [
      "Some people dream of success while others wake up and work.\n"
     ]
    }
   ],
   "metadata": {}
  },
  {
   "cell_type": "code",
   "execution_count": 14,
   "source": [
    "print(not None or 15)"
   ],
   "outputs": [
    {
     "output_type": "stream",
     "name": "stdout",
     "text": [
      "True\n"
     ]
    }
   ],
   "metadata": {}
  },
  {
   "cell_type": "code",
   "execution_count": 13,
   "source": [
    "print(15 or not None)"
   ],
   "outputs": [
    {
     "output_type": "stream",
     "name": "stdout",
     "text": [
      "15\n"
     ]
    }
   ],
   "metadata": {}
  },
  {
   "cell_type": "code",
   "execution_count": 14,
   "source": [
    "print(not None)"
   ],
   "outputs": [
    {
     "output_type": "stream",
     "name": "stdout",
     "text": [
      "True\n"
     ]
    }
   ],
   "metadata": {}
  },
  {
   "cell_type": "code",
   "execution_count": 15,
   "source": [
    "print(\"{3} {2} {4} {1} {0}\".format('job.', 'a', 'will', 'I', 'find'))"
   ],
   "outputs": [
    {
     "output_type": "stream",
     "name": "stdout",
     "text": [
      "I will find a job.\n"
     ]
    }
   ],
   "metadata": {}
  },
  {
   "cell_type": "code",
   "execution_count": 16,
   "source": [
    "section_3_5 = \"python data types and useful operations\"\r\n",
    "print(section_3_5.title())"
   ],
   "outputs": [
    {
     "output_type": "stream",
     "name": "stdout",
     "text": [
      "Python Data Types And Useful Operations\n"
     ]
    }
   ],
   "metadata": {}
  },
  {
   "cell_type": "code",
   "execution_count": 15,
   "source": [
    "print({0})"
   ],
   "outputs": [
    {
     "output_type": "stream",
     "name": "stdout",
     "text": [
      "{0}\n"
     ]
    }
   ],
   "metadata": {}
  },
  {
   "cell_type": "code",
   "execution_count": 17,
   "source": [
    "print({0} and False or [])"
   ],
   "outputs": [
    {
     "output_type": "stream",
     "name": "stdout",
     "text": [
      "[]\n"
     ]
    }
   ],
   "metadata": {}
  },
  {
   "cell_type": "code",
   "execution_count": 1,
   "source": [
    "var1 = \"sleep\"\r\n",
    "var2 = \"eat\"\r\n",
    "var3 = \"better\"\r\n",
    "var4 = \"life\"\r\n",
    "sentence =f\"The less you {var1} and {var2}, the {var3} your {var4} will be.\"\r\n",
    "print(sentence)"
   ],
   "outputs": [
    {
     "output_type": "stream",
     "name": "stdout",
     "text": [
      "The less you sleep and eat, the better your life will be.\n"
     ]
    }
   ],
   "metadata": {}
  },
  {
   "cell_type": "code",
   "execution_count": 2,
   "source": [
    "city = \"SARAJEVO\"\r\n",
    "text = f\"I live in {city.capitalize()}.\"\r\n",
    "print(text)"
   ],
   "outputs": [
    {
     "output_type": "stream",
     "name": "stdout",
     "text": [
      "I live in Sarajevo.\n"
     ]
    }
   ],
   "metadata": {}
  },
  {
   "cell_type": "code",
   "execution_count": 6,
   "source": [
    "year = int(input(\"Enter a year : \"))\r\n",
    "result = (year % 400 == 0) or (not year % 100 == 0 and year % 4 == 0)\r\n",
    "print(\"Leap year :\", result)"
   ],
   "outputs": [
    {
     "output_type": "stream",
     "name": "stdout",
     "text": [
      "Leap year : False\n"
     ]
    }
   ],
   "metadata": {}
  },
  {
   "cell_type": "code",
   "execution_count": 1,
   "source": [
    "mixed_list = [11, 'Joseph', False, 3.14, None, [1, 2, 3]]\r\n",
    "print(mixed_list)"
   ],
   "outputs": [
    {
     "output_type": "stream",
     "name": "stdout",
     "text": [
      "[11, 'Joseph', False, 3.14, None, [1, 2, 3]]\n"
     ]
    }
   ],
   "metadata": {}
  },
  {
   "cell_type": "code",
   "execution_count": 2,
   "source": [
    "warning = 'You must quit smoking!'\r\n",
    "print(len(list(warning)))"
   ],
   "outputs": [
    {
     "output_type": "stream",
     "name": "stdout",
     "text": [
      "22\n"
     ]
    }
   ],
   "metadata": {}
  },
  {
   "cell_type": "code",
   "execution_count": 3,
   "source": [
    "empty_list = []\r\n",
    "empty_list.append('horos')\r\n",
    "empty_list.append('chicken')\r\n",
    "empty_list.append('bird')\r\n",
    "print(empty_list)"
   ],
   "outputs": [
    {
     "output_type": "stream",
     "name": "stdout",
     "text": [
      "['horos', 'chicken', 'bird']\n"
     ]
    }
   ],
   "metadata": {}
  },
  {
   "cell_type": "code",
   "execution_count": 4,
   "source": [
    "country = ['Turkey', 'England', 'Italy']\r\n",
    "country.append('USA')\r\n",
    "print(country)\r\n"
   ],
   "outputs": [
    {
     "output_type": "stream",
     "name": "stdout",
     "text": [
      "['Turkey', 'England', 'Italy', 'USA']\n"
     ]
    }
   ],
   "metadata": {}
  },
  {
   "cell_type": "code",
   "execution_count": 5,
   "source": [
    "country = ['Turkey', 'England', 'Italy']\r\n",
    "country.insert(1, 'USA')\r\n",
    "print(country)"
   ],
   "outputs": [
    {
     "output_type": "stream",
     "name": "stdout",
     "text": [
      "['Turkey', 'USA', 'England', 'Italy']\n"
     ]
    }
   ],
   "metadata": {}
  },
  {
   "cell_type": "code",
   "execution_count": 6,
   "source": [
    "country = ['Turkey', 'England', 'Italy']\r\n",
    "country.insert(2, 'USA')\r\n",
    "print(country)"
   ],
   "outputs": [
    {
     "output_type": "stream",
     "name": "stdout",
     "text": [
      "['Turkey', 'England', 'USA', 'Italy']\n"
     ]
    }
   ],
   "metadata": {}
  },
  {
   "cell_type": "code",
   "execution_count": 7,
   "source": [
    "country = ['Turkey', 'England', 'USA', 'Italy']\r\n",
    "country.remove('USA')\r\n",
    "print(country)"
   ],
   "outputs": [
    {
     "output_type": "stream",
     "name": "stdout",
     "text": [
      "['Turkey', 'England', 'Italy']\n"
     ]
    }
   ],
   "metadata": {}
  },
  {
   "cell_type": "code",
   "execution_count": 8,
   "source": [
    "country = ['Turkey', 'England', 'USA', 'Italy']\r\n",
    "country.sort()\r\n",
    "print(country)"
   ],
   "outputs": [
    {
     "output_type": "stream",
     "name": "stdout",
     "text": [
      "['England', 'Italy', 'Turkey', 'USA']\n"
     ]
    }
   ],
   "metadata": {}
  },
  {
   "cell_type": "code",
   "execution_count": 9,
   "source": [
    "country = ['Turkey', 'England', 'USA', 'Italy']\r\n",
    "print(len(country))"
   ],
   "outputs": [
    {
     "output_type": "stream",
     "name": "stdout",
     "text": [
      "4\n"
     ]
    }
   ],
   "metadata": {}
  },
  {
   "cell_type": "code",
   "execution_count": 10,
   "source": [
    "my_list = [1, 3, 5, 7]\r\n",
    "print(my_list * 3)"
   ],
   "outputs": [
    {
     "output_type": "stream",
     "name": "stdout",
     "text": [
      "[1, 3, 5, 7, 1, 3, 5, 7, 1, 3, 5, 7]\n"
     ]
    }
   ],
   "metadata": {}
  },
  {
   "cell_type": "code",
   "execution_count": 11,
   "source": [
    "odd_numbers = [[11, 13, 15], 17, 19, 21, 23, 25, 27, 29]\r\n",
    "print(odd_numbers[6])"
   ],
   "outputs": [
    {
     "output_type": "stream",
     "name": "stdout",
     "text": [
      "27\n"
     ]
    }
   ],
   "metadata": {}
  },
  {
   "cell_type": "code",
   "execution_count": 17,
   "source": [
    "fruits = ['apple', 'banana', 'watermelon', 'orange', 'mango', 'avocado']\r\n",
    "fruit_list.insert(0, fruits)\r\n",
    "print(fruit_list)"
   ],
   "outputs": [
    {
     "output_type": "stream",
     "name": "stdout",
     "text": [
      "[['apple', 'banana', 'watermelon', 'orange', 'mango', 'avocado'], ['apple', 'banana', 'watermelon', 'orange', 'mango', 'avocado']]\n"
     ]
    }
   ],
   "metadata": {}
  },
  {
   "cell_type": "code",
   "execution_count": 12,
   "source": [
    "fruits = ['apple', 'banana', 'watermelon', 'orange', 'mango', 'avocado']\r\n",
    "fruit_list = []\r\n",
    "fruit_list.insert(0, fruits)\r\n",
    "print(fruit_list[0][2][7])"
   ],
   "outputs": [
    {
     "output_type": "stream",
     "name": "stdout",
     "text": [
      "l\n"
     ]
    }
   ],
   "metadata": {}
  },
  {
   "cell_type": "code",
   "execution_count": 15,
   "source": [
    "fruits = ['apple', 'banana', 'watermelon', 'orange', 'mango', 'avocado']\r\n",
    "fruit_list = []\r\n",
    "fruit_list.insert(0, fruits)\r\n",
    "print(fruit_list)"
   ],
   "outputs": [
    {
     "output_type": "stream",
     "name": "stdout",
     "text": [
      "[['apple', 'banana', 'watermelon', 'orange', 'mango', 'avocado']]\n"
     ]
    }
   ],
   "metadata": {}
  },
  {
   "cell_type": "code",
   "execution_count": 16,
   "source": [
    "even_numbers = [2, 4, 6, 8, 10, 12, 14, 16, 18, 20]\r\n",
    "\r\n",
    "print(even_numbers[4:9])"
   ],
   "outputs": [
    {
     "output_type": "stream",
     "name": "stdout",
     "text": [
      "[10, 12, 14, 16, 18]\n"
     ]
    }
   ],
   "metadata": {}
  },
  {
   "cell_type": "code",
   "execution_count": 17,
   "source": [
    "print(len([[12, 34, 56]]))"
   ],
   "outputs": [
    {
     "output_type": "stream",
     "name": "stdout",
     "text": [
      "1\n"
     ]
    }
   ],
   "metadata": {}
  },
  {
   "cell_type": "code",
   "execution_count": 18,
   "source": [
    "print(len([[12, 34, 56]][0]))"
   ],
   "outputs": [
    {
     "output_type": "stream",
     "name": "stdout",
     "text": [
      "3\n"
     ]
    }
   ],
   "metadata": {}
  },
  {
   "cell_type": "code",
   "execution_count": 19,
   "source": [
    "print([[12, 34, 56]][0])"
   ],
   "outputs": [
    {
     "output_type": "stream",
     "name": "stdout",
     "text": [
      "[12, 34, 56]\n"
     ]
    }
   ],
   "metadata": {}
  },
  {
   "cell_type": "code",
   "execution_count": 6,
   "source": [
    "print(2**3**3)"
   ],
   "outputs": [
    {
     "output_type": "stream",
     "name": "stdout",
     "text": [
      "134217728\n"
     ]
    }
   ],
   "metadata": {}
  },
  {
   "cell_type": "code",
   "execution_count": 1,
   "source": [
    "country = list()\r\n",
    "country.append('Turkey')\r\n",
    "country.append('Russia')\r\n",
    "country.insert(1, 'Ukrania')\r\n",
    "print(country)"
   ],
   "outputs": [
    {
     "output_type": "stream",
     "name": "stdout",
     "text": [
      "['Turkey', 'Ukrania', 'Russia']\n"
     ]
    }
   ],
   "metadata": {}
  },
  {
   "cell_type": "code",
   "execution_count": 1,
   "source": [
    "mix_value = (10, False, 'fruit', 1.618) # tuple\r\n",
    "mix_value.append(['vegetable', 2+3j])\r\n",
    "print(len(mix_value))"
   ],
   "outputs": [
    {
     "output_type": "error",
     "ename": "AttributeError",
     "evalue": "'tuple' object has no attribute 'append'",
     "traceback": [
      "\u001b[1;31m---------------------------------------------------------------------------\u001b[0m",
      "\u001b[1;31mAttributeError\u001b[0m                            Traceback (most recent call last)",
      "\u001b[1;32m<ipython-input-1-0ca9ec98ccea>\u001b[0m in \u001b[0;36m<module>\u001b[1;34m\u001b[0m\n\u001b[0;32m      1\u001b[0m \u001b[0mmix_value\u001b[0m \u001b[1;33m=\u001b[0m \u001b[1;33m(\u001b[0m\u001b[1;36m10\u001b[0m\u001b[1;33m,\u001b[0m \u001b[1;32mFalse\u001b[0m\u001b[1;33m,\u001b[0m \u001b[1;34m'fruit'\u001b[0m\u001b[1;33m,\u001b[0m \u001b[1;36m1.618\u001b[0m\u001b[1;33m)\u001b[0m\u001b[1;33m\u001b[0m\u001b[1;33m\u001b[0m\u001b[0m\n\u001b[1;32m----> 2\u001b[1;33m \u001b[0mmix_value\u001b[0m\u001b[1;33m.\u001b[0m\u001b[0mappend\u001b[0m\u001b[1;33m(\u001b[0m\u001b[1;33m[\u001b[0m\u001b[1;34m'vegetable'\u001b[0m\u001b[1;33m,\u001b[0m \u001b[1;36m2\u001b[0m\u001b[1;33m+\u001b[0m\u001b[1;36m3j\u001b[0m\u001b[1;33m]\u001b[0m\u001b[1;33m)\u001b[0m\u001b[1;33m\u001b[0m\u001b[1;33m\u001b[0m\u001b[0m\n\u001b[0m\u001b[0;32m      3\u001b[0m \u001b[1;33m\u001b[0m\u001b[0m\n\u001b[0;32m      4\u001b[0m \u001b[0mprint\u001b[0m\u001b[1;33m(\u001b[0m\u001b[0mlen\u001b[0m\u001b[1;33m(\u001b[0m\u001b[0mmix_value\u001b[0m\u001b[1;33m)\u001b[0m\u001b[1;33m)\u001b[0m\u001b[1;33m\u001b[0m\u001b[1;33m\u001b[0m\u001b[0m\n",
      "\u001b[1;31mAttributeError\u001b[0m: 'tuple' object has no attribute 'append'"
     ]
    }
   ],
   "metadata": {}
  },
  {
   "cell_type": "code",
   "execution_count": 27,
   "source": [
    "my_list = list(range(1, 11))\r\n",
    "my_list.sort(reverse=True)\r\n",
    "print(my_list)"
   ],
   "outputs": [
    {
     "output_type": "stream",
     "name": "stdout",
     "text": [
      "[10, 9, 8, 7, 6, 5, 4, 3, 2, 1]\n"
     ]
    }
   ],
   "metadata": {}
  },
  {
   "cell_type": "code",
   "execution_count": 30,
   "source": [
    "grocer = [\"banana\", [\"orange\", [\"apple\", \"eggplant\", \"melon\", \"spinach\", \"cheese\", \"leek\" ], \"water\"], \"mandarin\"]\r\n",
    "print(grocer[1][1][1:6:2])"
   ],
   "outputs": [
    {
     "output_type": "stream",
     "name": "stdout",
     "text": [
      "['eggplant', 'spinach', 'leek']\n"
     ]
    }
   ],
   "metadata": {}
  },
  {
   "cell_type": "code",
   "execution_count": 32,
   "source": [
    "flowers = [[\"jasmine\", [\"lavender\", \"rose\"], \"tulip\"]]\r\n",
    "colors = [\"red\", (\"blue\", [\"yellow\", \"green\"]), \"pink\"]\r\n",
    "text = \"My two favorite flowers are {} and {}, two favorite colors are {} and {}.\".format(flowers[0][2], flowers[0][1][1], colors[1][0], colors[1][1][1])\r\n",
    "print(text)"
   ],
   "outputs": [
    {
     "output_type": "stream",
     "name": "stdout",
     "text": [
      "My two favorite flowers are tulip and rose, two favorite colors are blue and green.\n"
     ]
    }
   ],
   "metadata": {}
  },
  {
   "cell_type": "code",
   "execution_count": 39,
   "source": [
    "escapes = [\"\\n\\t\", (\"\\t\", \"\\t\\t\"), [\"\\n\", \"\\n\\t\\t\"]]\r\n",
    "sentence = \"I am 40 years old.{}I have two children.{}Data Science is my IT domain.\".format(escapes[0], escapes[2][1], escapes[1])\r\n",
    "print(sentence)\r\n"
   ],
   "outputs": [
    {
     "output_type": "stream",
     "name": "stdout",
     "text": [
      "I am 40 years old.\n",
      "\tI have two children.\n",
      "\t\tData Science is my IT domain.\n"
     ]
    }
   ],
   "metadata": {}
  },
  {
   "cell_type": "code",
   "execution_count": 1,
   "source": [
    "planets = 'mercury', 'jupiter', 'saturn'\r\n",
    "print(planets)\r\n",
    "print(type(planets))"
   ],
   "outputs": [
    {
     "output_type": "stream",
     "name": "stdout",
     "text": [
      "('mercury', 'jupiter', 'saturn')\n",
      "<class 'tuple'>\n"
     ]
    }
   ],
   "metadata": {}
  },
  {
   "cell_type": "code",
   "execution_count": 3,
   "source": [
    "print(set('listen to the voice of enlisted'))\r\n",
    "print(len(set('listen to the voice of enlisted')))"
   ],
   "outputs": [
    {
     "output_type": "stream",
     "name": "stdout",
     "text": [
      "{'o', 'n', 'c', 't', 'f', 'i', ' ', 'h', 's', 'l', 'v', 'e', 'd'}\n",
      "13\n"
     ]
    }
   ],
   "metadata": {}
  },
  {
   "cell_type": "code",
   "execution_count": 4,
   "source": [
    "numbers_10 = [10, 30, 40, 50, 60, 70, 80, 90, 100]\r\n",
    "numbers_10.insert(1, 20)\r\n",
    "print(numbers_10)"
   ],
   "outputs": [
    {
     "output_type": "stream",
     "name": "stdout",
     "text": [
      "[10, 20, 30, 40, 50, 60, 70, 80, 90, 100]\n"
     ]
    }
   ],
   "metadata": {}
  },
  {
   "cell_type": "code",
   "execution_count": 5,
   "source": [
    "fruits_vegetables = [\"fruit\", \"vegetable\", [\"apple\", \"banana\", [\"mango\", \"avocado\"]], [\"spinach\", \"broccoli\"]]\r\n",
    "print(fruits_vegetables[3][0])"
   ],
   "outputs": [
    {
     "output_type": "stream",
     "name": "stdout",
     "text": [
      "spinach\n"
     ]
    }
   ],
   "metadata": {}
  },
  {
   "cell_type": "code",
   "execution_count": 2,
   "source": [
    "family_members = ['Meghan', 'Tom', 'Nicole', 'Tim']\r\n",
    "my_tuple = tuple(family_members)\r\n",
    "print(my_tuple)"
   ],
   "outputs": [
    {
     "output_type": "stream",
     "name": "stdout",
     "text": [
      "('Meghan', 'Tom', 'Nicole', 'Tim')\n"
     ]
    }
   ],
   "metadata": {}
  },
  {
   "cell_type": "code",
   "execution_count": 4,
   "source": [
    "dict_by_dict = {'animal': 'dog',\r\n",
    "                'planet': 'neptun',\r\n",
    "                'number': 40,\r\n",
    "                'pi': 3.14,\r\n",
    "                'is_good': True}\r\n",
    "\r\n",
    "dict_by_dict['is_bad'] = False\r\n",
    "\r\n",
    "print(dict_by_dict)"
   ],
   "outputs": [
    {
     "output_type": "stream",
     "name": "stdout",
     "text": [
      "{'animal': 'dog', 'planet': 'neptun', 'number': 40, 'pi': 3.14, 'is_good': True, 'is_bad': False}\n"
     ]
    }
   ],
   "metadata": {}
  },
  {
   "cell_type": "code",
   "execution_count": 5,
   "source": [
    "dict_by_dict = {'animal': 'dog',\r\n",
    "                'planet': 'neptun',\r\n",
    "                'number': 40,\r\n",
    "                'pi': 3.14,\r\n",
    "                'is_good': True}\r\n",
    "\r\n",
    "dict_by_dict.update({'is_bad': False})\r\n",
    "\r\n",
    "print(dict_by_dict)"
   ],
   "outputs": [
    {
     "output_type": "stream",
     "name": "stdout",
     "text": [
      "{'animal': 'dog', 'planet': 'neptun', 'number': 40, 'pi': 3.14, 'is_good': True, 'is_bad': False}\n"
     ]
    }
   ],
   "metadata": {}
  },
  {
   "cell_type": "code",
   "execution_count": 2,
   "source": [
    "# Assignment-007/1 (The Most Frequent Element)\r\n",
    "numbers = [1, 3, 7, 4, 3, 0, 3, 6, 3]\r\n",
    "numbers.sort()\r\n",
    "a = numbers[0] == numbers[1]\r\n",
    "print(a)\r\n",
    "print(numbers)"
   ],
   "outputs": [
    {
     "output_type": "stream",
     "name": "stdout",
     "text": [
      "False\n",
      "[0, 1, 3, 3, 3, 3, 4, 6, 7]\n"
     ]
    }
   ],
   "metadata": {}
  },
  {
   "cell_type": "code",
   "execution_count": 2,
   "source": [
    "# Assignment-007/1 (The Most Frequent Element)_2\r\n",
    "numbers = [1, 3, 7, 4, 3, 0, 3, 6, 3]\r\n",
    "b_1 = max(set(numbers), key = numbers.count)\r\n",
    "b_2 = numbers.count(b_1)\r\n",
    "print(\"The most frequent number is\", b_1, \"and it was\", b_2, \"times repeated\")"
   ],
   "outputs": [
    {
     "output_type": "stream",
     "name": "stdout",
     "text": [
      "The most frequent number is 3 and it was 4 times repeated\n"
     ]
    }
   ],
   "metadata": {}
  },
  {
   "cell_type": "code",
   "execution_count": 1,
   "source": [
    "print('{:,}'.format(1112223334))"
   ],
   "outputs": [
    {
     "output_type": "stream",
     "name": "stdout",
     "text": [
      "1,112,223,334\n"
     ]
    }
   ],
   "metadata": {}
  },
  {
   "cell_type": "code",
   "execution_count": 3,
   "source": [
    "# Attention Example a[1] don't change\r\n",
    "a = [10, 23, 56, [78]]\r\n",
    "b = list(a)\r\n",
    "a[1] = 34\r\n",
    "a[3][0] = 95\r\n",
    "print(b)"
   ],
   "outputs": [
    {
     "output_type": "stream",
     "name": "stdout",
     "text": [
      "[10, 23, 56, [95]]\n"
     ]
    }
   ],
   "metadata": {}
  },
  {
   "cell_type": "code",
   "execution_count": 12,
   "source": [
    "words = ['circumtances', 'in all', 'generosity', 'wins']\r\n",
    "print(words)\r\n",
    "phrase = '{0}{2} {0}{3} {0}{1} {0}{0}'.format(*words)\r\n",
    "print(phrase)"
   ],
   "outputs": [
    {
     "output_type": "stream",
     "name": "stdout",
     "text": [
      "['circumtances', 'in all', 'generosity', 'wins']\n",
      "circumtancesgenerosity circumtanceswins circumtancesin all circumtancescircumtances\n"
     ]
    }
   ],
   "metadata": {}
  },
  {
   "cell_type": "code",
   "execution_count": 16,
   "source": [
    "# Write File Extention\r\n",
    "filename = input(\"Enter the Filename :\")\r\n",
    "print(\"File extention is : \", filename.split(\".\")[-1])\r\n",
    "print(filename.split(\".\"))"
   ],
   "outputs": [
    {
     "output_type": "stream",
     "name": "stdout",
     "text": [
      "File extention is :  jpeg\n",
      "['xyz', 'jpeg']\n"
     ]
    }
   ],
   "metadata": {}
  },
  {
   "cell_type": "code",
   "execution_count": 18,
   "source": [
    "# Adding Character Between Word\r\n",
    "text = input(\"Write a string : \")\r\n",
    "print(text[:int(len(text)/2)] + \"-\" + text[int(len(text)/2):])"
   ],
   "outputs": [
    {
     "output_type": "stream",
     "name": "stdout",
     "text": [
      "pyt-hon\n"
     ]
    }
   ],
   "metadata": {}
  },
  {
   "cell_type": "code",
   "execution_count": 19,
   "source": [
    "city_list = [['New York', 'London', 'Istanbul', 'Seoul', 'Sydney']]\r\n",
    "print(list(city_list[0][2]))"
   ],
   "outputs": [
    {
     "output_type": "stream",
     "name": "stdout",
     "text": [
      "['I', 's', 't', 'a', 'n', 'b', 'u', 'l']\n"
     ]
    }
   ],
   "metadata": {}
  },
  {
   "cell_type": "code",
   "execution_count": 4,
   "source": [
    "numbers = {}\r\n",
    "\r\n",
    "numbers['x'] = 12\r\n",
    "numbers['y'] = 4\r\n",
    "numbers.update({'z': 3})\r\n",
    "\r\n",
    "print(numbers['x'] + numbers['y'] + numbers['z']**2)"
   ],
   "outputs": [
    {
     "output_type": "stream",
     "name": "stdout",
     "text": [
      "25\n"
     ]
    }
   ],
   "metadata": {}
  },
  {
   "cell_type": "code",
   "execution_count": 3,
   "source": [
    "a_1 = [0, 2, 3, 2]\r\n",
    "a_1.remove(3)\r\n",
    "print(a_1)"
   ],
   "outputs": [
    {
     "output_type": "stream",
     "name": "stdout",
     "text": [
      "[0, 2, 2]\n"
     ]
    }
   ],
   "metadata": {}
  },
  {
   "cell_type": "code",
   "execution_count": 4,
   "source": [
    "a_2 = [9, 8, 7, 6]\r\n",
    "del a_2[1]\r\n",
    "print(a_2)"
   ],
   "outputs": [
    {
     "output_type": "stream",
     "name": "stdout",
     "text": [
      "[9, 7, 6]\n"
     ]
    }
   ],
   "metadata": {}
  },
  {
   "cell_type": "code",
   "execution_count": 5,
   "source": [
    "a_3 = [4, 3, 5]\r\n",
    "a_3.pop(1)\r\n",
    "print(a_3)"
   ],
   "outputs": [
    {
     "output_type": "stream",
     "name": "stdout",
     "text": [
      "[4, 5]\n"
     ]
    }
   ],
   "metadata": {}
  },
  {
   "cell_type": "code",
   "execution_count": 6,
   "source": [
    "college_years = ['Freshman', 'Sophomore', 'Junior', 'Senior']\r\n",
    "print(list(enumerate(college_years, 2019)))"
   ],
   "outputs": [
    {
     "output_type": "stream",
     "name": "stdout",
     "text": [
      "[(2019, 'Freshman'), (2020, 'Sophomore'), (2021, 'Junior'), (2022, 'Senior')]\n"
     ]
    }
   ],
   "metadata": {}
  },
  {
   "cell_type": "code",
   "execution_count": 3,
   "source": [
    "number = 23\r\n",
    "if number >= 10:\r\n",
    "    print(\"The number is equal or greater than 10\")\r\n",
    "else :\r\n",
    "    print(\"The number is less than 10\")"
   ],
   "outputs": [
    {
     "output_type": "stream",
     "name": "stdout",
     "text": [
      "The number is equal or greater than 10\n"
     ]
    }
   ],
   "metadata": {}
  },
  {
   "cell_type": "code",
   "execution_count": 10,
   "source": [
    "audience_group = 'kid', 'teen', 'adult'\r\n",
    "\r\n",
    "audience = \"adult\"\r\n",
    "\r\n",
    "if audience in audience_group:\r\n",
    "    if audience == \"kid\":\r\n",
    "        print(\"it is free to go to cinema\")\r\n",
    "    elif audience == \"teen\":\r\n",
    "        print(\"discounted price!\")\r\n",
    "    else : # audience == \"adult\":\r\n",
    "        print(\"normal price\")\r\n",
    "else:\r\n",
    "    print(\"No such audience, stay at your home!\")"
   ],
   "outputs": [
    {
     "output_type": "stream",
     "name": "stdout",
     "text": [
      "normal price\n"
     ]
    }
   ],
   "metadata": {}
  },
  {
   "cell_type": "code",
   "execution_count": 15,
   "source": [
    "score = int (input(\"Enter your score :\"))\r\n",
    "\r\n",
    "if score >= 90:\r\n",
    "    if score >= 95:\r\n",
    "        Score_letter=\"A+\"\r\n",
    "    else:\r\n",
    "        Score_letter=\"A\"\r\n",
    "elif score >= 80:\r\n",
    "    if score >= 85:\r\n",
    "        Score_letter=\"B+\"\r\n",
    "    else:\r\n",
    "        Score_letter=\"B\"\r\n",
    "else:\r\n",
    "    Score_letter=\"below B\"\r\n",
    "\r\n",
    "print (\"Your degree: %s\" % Score_letter)"
   ],
   "outputs": [
    {
     "output_type": "stream",
     "name": "stdout",
     "text": [
      "Your degree: below B\n"
     ]
    }
   ],
   "metadata": {}
  },
  {
   "cell_type": "code",
   "execution_count": 5,
   "source": [
    "flowers = ['Rose', 'Orchid', 'Tulip']\r\n",
    "count1 = len(flowers)\r\n",
    "count2 = 0\r\n",
    "\r\n",
    "while count1>0 :\r\n",
    "    print(flowers[count2])\r\n",
    "    count1 -= 1\r\n",
    "    count2 += 1"
   ],
   "outputs": [
    {
     "output_type": "stream",
     "name": "stdout",
     "text": [
      "Rose\n",
      "Orchid\n",
      "Tulip\n"
     ]
    }
   ],
   "metadata": {}
  },
  {
   "cell_type": "code",
   "execution_count": 9,
   "source": [
    "iterable = [1, 2, 3, 4]\r\n",
    "for i in iterable :\r\n",
    "    print(i**2)"
   ],
   "outputs": [
    {
     "output_type": "stream",
     "name": "stdout",
     "text": [
      "1\n",
      "4\n",
      "9\n",
      "16\n"
     ]
    }
   ],
   "metadata": {}
  },
  {
   "cell_type": "code",
   "execution_count": 10,
   "source": [
    "times = int(input(\"How many times should I say 'I love you'\"))\r\n",
    "\r\n",
    "for i in range(times):\r\n",
    "    print('I love you')"
   ],
   "outputs": [
    {
     "output_type": "stream",
     "name": "stdout",
     "text": [
      "I love you\n",
      "I love you\n",
      "I love you\n"
     ]
    }
   ],
   "metadata": {}
  },
  {
   "cell_type": "code",
   "execution_count": 11,
   "source": [
    "n = int(input('enter a number between 1-10'))\r\n",
    "\r\n",
    "for i in range(11):\r\n",
    "    print('{}x{} = '.format(n, i), n*i)"
   ],
   "outputs": [
    {
     "output_type": "stream",
     "name": "stdout",
     "text": [
      "9x0 =  0\n",
      "9x1 =  9\n",
      "9x2 =  18\n",
      "9x3 =  27\n",
      "9x4 =  36\n",
      "9x5 =  45\n",
      "9x6 =  54\n",
      "9x7 =  63\n",
      "9x8 =  72\n",
      "9x9 =  81\n",
      "9x10 =  90\n"
     ]
    }
   ],
   "metadata": {}
  },
  {
   "cell_type": "code",
   "execution_count": 1,
   "source": [
    "fruits = ['Apples', 'Oranges', 'Bananas']\r\n",
    "quantities = [5, 3, 4]\r\n",
    "prices = [1.50, 2.25, 0.89]\r\n",
    "output=[]\r\n",
    "fruit_tuple_0 = (fruits[0], quantities[0], prices[0])\r\n",
    "output.append(output)\r\n",
    "fruit_tuple_1 = (fruits[1], quantities[1], prices[1])\r\n",
    "output.append(output)\r\n",
    "fruit_tuple_2 = (fruits[2], quantities[2], prices[2])\r\n",
    "output.append(output)\r\n",
    "print(fruit_tuple_0, fruit_tuple_1, fruit_tuple_2)"
   ],
   "outputs": [
    {
     "output_type": "stream",
     "name": "stdout",
     "text": [
      "('Apples', 5, 1.5) ('Oranges', 3, 2.25) ('Bananas', 4, 0.89)\n"
     ]
    }
   ],
   "metadata": {}
  },
  {
   "cell_type": "code",
   "execution_count": 3,
   "source": [
    "fruits = ['Apples', 'Oranges', 'Bananas']\r\n",
    "quantities = [5, 3, 4]\r\n",
    "prices = [1.50, 2.25, 0.89]\r\n",
    "groceries = zip(fruits, quantities, prices)\r\n",
    "print(list(groceries))"
   ],
   "outputs": [
    {
     "output_type": "stream",
     "name": "stdout",
     "text": [
      "[('Apples', 5, 1.5), ('Oranges', 3, 2.25), ('Bananas', 4, 0.89)]\n"
     ]
    }
   ],
   "metadata": {}
  },
  {
   "cell_type": "code",
   "execution_count": 2,
   "source": [
    "def my_function(width, height) :\r\n",
    "    area = width * height\r\n",
    "    print(area)\r\n",
    "\r\n",
    "my_function(3, 4)"
   ],
   "outputs": [
    {
     "output_type": "stream",
     "name": "stdout",
     "text": [
      "12\n"
     ]
    }
   ],
   "metadata": {}
  },
  {
   "cell_type": "code",
   "execution_count": 3,
   "source": [
    "def my_function(width, height) :\r\n",
    "    area = width * height\r\n",
    "    return area\r\n",
    "\r\n",
    "print(my_function(3, 4))"
   ],
   "outputs": [
    {
     "output_type": "stream",
     "name": "stdout",
     "text": [
      "12\n"
     ]
    }
   ],
   "metadata": {}
  },
  {
   "cell_type": "code",
   "execution_count": null,
   "source": [],
   "outputs": [],
   "metadata": {}
  }
 ]
}