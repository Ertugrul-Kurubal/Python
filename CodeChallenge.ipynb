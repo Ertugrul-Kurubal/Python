{
 "metadata": {
  "language_info": {
   "codemirror_mode": {
    "name": "ipython",
    "version": 3
   },
   "file_extension": ".py",
   "mimetype": "text/x-python",
   "name": "python",
   "nbconvert_exporter": "python",
   "pygments_lexer": "ipython3",
   "version": "3.9.0"
  },
  "orig_nbformat": 2,
  "kernelspec": {
   "name": "python3",
   "display_name": "Python 3.9.0 64-bit"
  },
  "interpreter": {
   "hash": "43a9cd95aa030499ef934e4da31e07dde54f3fc3a1fd0cc4aeef7f16459ee2ac"
  }
 },
 "nbformat": 4,
 "nbformat_minor": 2,
 "cells": [
  {
   "cell_type": "code",
   "execution_count": 22,
   "metadata": {},
   "outputs": [
    {
     "output_type": "stream",
     "name": "stdout",
     "text": [
      "[]\n"
     ]
    }
   ],
   "source": [
    "print([])"
   ]
  },
  {
   "cell_type": "code",
   "execution_count": 20,
   "metadata": {},
   "outputs": [
    {
     "output_type": "stream",
     "name": "stdout",
     "text": [
      "False\n"
     ]
    }
   ],
   "source": [
    "print(False and {0})"
   ]
  },
  {
   "cell_type": "code",
   "execution_count": 21,
   "metadata": {},
   "outputs": [
    {
     "output_type": "stream",
     "name": "stdout",
     "text": [
      "[]\n"
     ]
    }
   ],
   "source": [
    "print(False and {0} or [])"
   ]
  },
  {
   "cell_type": "code",
   "execution_count": 2,
   "metadata": {},
   "outputs": [
    {
     "output_type": "stream",
     "name": "stdout",
     "text": [
      "Clarusway, Clarusway, Clarusway,\n\tClarusway, Clarusway, Clarusway,\n\t\tClarusway, Clarusway, Clarusway\n"
     ]
    }
   ],
   "source": [
    "text = \"Clarusway, Clarusway, Clarusway,\"\n",
    "print(text+\"\\n\"\"\\t\"+text+\"\\n\"\"\\t\"\"\\t\"+text.rstrip(\",\"))"
   ]
  },
  {
   "cell_type": "code",
   "execution_count": 3,
   "metadata": {},
   "outputs": [
    {
     "output_type": "stream",
     "name": "stdout",
     "text": [
      "Result of risk of death : True\n"
     ]
    }
   ],
   "source": [
    "# There are there variable (age = %33,3; chronic = %33,3; immune = %33,3)\n",
    "# We assume there are risk of death if true variable percent is more than percent 50.\n",
    "age = True  # Are you a cigarette addict older than 75 years old? True/False\n",
    "chronic = False  # Are you a cigarette addict older than 75 years old? True/False\n",
    "immune = True # Is your immune system too weak? True/False\n",
    "risk = ((age and chronic and immune) or ((age and chronic) or (age and immune) or (chronic and immune))) \n",
    "print(\"Result of risk of death :\",risk)"
   ]
  },
  {
   "cell_type": "code",
   "execution_count": 4,
   "metadata": {},
   "outputs": [
    {
     "output_type": "stream",
     "name": "stdout",
     "text": [
      "Total amount: 1605.7814764784307\nTotal profit: 605.7814764784307\n"
     ]
    }
   ],
   "source": [
    "# The Profit Calculator\n",
    "amount = 1000\n",
    "daily_profit = 107/100  # 7% fixed profit daily for a week \n",
    "formula = daily_profit*((107/100)**6)\n",
    "print(\"Total amount:\", amount * formula)\n",
    "print(\"Total profit:\", amount * formula - amount)"
   ]
  },
  {
   "cell_type": "code",
   "execution_count": 5,
   "metadata": {},
   "outputs": [
    {
     "output_type": "stream",
     "name": "stdout",
     "text": [
      "Total amount: 1605.78\nTotal profit: 605.78\n"
     ]
    }
   ],
   "source": [
    "# The Profit Calculator_2\n",
    "amount = 1000\n",
    "daily_profit = 107/100  # 7% fixed profit daily for a week \n",
    "formula = daily_profit*((107/100)**6)\n",
    "print(\"Total amount:\", round(amount * formula, 2))\n",
    "print(\"Total profit:\", round(amount * formula - amount, 2))"
   ]
  },
  {
   "cell_type": "code",
   "execution_count": 6,
   "metadata": {},
   "outputs": [
    {
     "output_type": "stream",
     "name": "stdout",
     "text": [
      "1605.78147647843\n"
     ]
    }
   ],
   "source": [
    "# Code Challenge 4 (Profit Calculator)\n",
    "deposit = 1000\n",
    "deposit = deposit + deposit*7/100 # 1st day of profit\n",
    "deposit = deposit + deposit*7/100 # 2nd day of profit\n",
    "deposit = deposit + deposit*7/100 # 3rd day of profit\n",
    "deposit = deposit + deposit*7/100 # 4th day of profit\n",
    "deposit = deposit + deposit*7/100 # 5th day of profit\n",
    "deposit = deposit + deposit*7/100 # 6th day of profit\n",
    "deposit = deposit + deposit*7/100 # 7th day of profit\n",
    "print(deposit)"
   ]
  },
  {
   "cell_type": "code",
   "execution_count": 7,
   "metadata": {},
   "outputs": [
    {
     "output_type": "stream",
     "name": "stdout",
     "text": [
      "True\n"
     ]
    }
   ],
   "source": [
    "# Code Challenge 5 (Covid 19 Risk)\n",
    "age = True\n",
    "immune = False\n",
    "chronic = True\n",
    "risk = age or immune or chronic\n",
    "print(risk)"
   ]
  },
  {
   "cell_type": "code",
   "execution_count": 8,
   "metadata": {},
   "outputs": [
    {
     "output_type": "stream",
     "name": "stdout",
     "text": [
      "Fahrenheit : 89\n"
     ]
    }
   ],
   "source": [
    "# Task 1\n",
    "# Converting Celsius to Fahrenheit\n",
    "temp_value = int(input(\"Enter Celsius value : \"))\n",
    "result = ((float(temp_value) * 1.8) + 32.0)  # From formula F = ((C*1.8)+32)\n",
    "print(\"Fahrenheit :\", int(result))"
   ]
  },
  {
   "cell_type": "code",
   "execution_count": 9,
   "metadata": {},
   "outputs": [
    {
     "output_type": "stream",
     "name": "stdout",
     "text": [
      "32.0 degree Celcius is equal to 89.60 fahrenheit\n"
     ]
    }
   ],
   "source": [
    "celcius = float(input(\"Enter the temperature as Celsius degree :\"))\n",
    "fahrenheit = (celcius *1.8) +32\n",
    "print(\"%0.1f degree Celcius is equal to %0.2f fahrenheit\" %(celcius, fahrenheit))"
   ]
  },
  {
   "cell_type": "code",
   "execution_count": 10,
   "metadata": {},
   "outputs": [
    {
     "output_type": "stream",
     "name": "stdout",
     "text": [
      "Miles : 62\n"
     ]
    }
   ],
   "source": [
    "# Task 2\n",
    "# Converting Kilometer to Mile\n",
    "lenght = int(input(\"Enter Kilometer value : \"))\n",
    "result = (float(lenght) * 0.621)  # From 1 km = 0.62 mile\n",
    "print(\"Miles :\", int(result))"
   ]
  },
  {
   "cell_type": "code",
   "execution_count": 11,
   "metadata": {},
   "outputs": [
    {
     "output_type": "stream",
     "name": "stdout",
     "text": [
      "Leap year : False\n"
     ]
    }
   ],
   "source": [
    "# Assigment 5 Leap Year\n",
    "year = int(input(\" 4-digit enter a year : \"))\n",
    "result = (year % 400 == 0) or (not year % 100 == 0 and year % 4 == 0)\n",
    "print(\"Leap year :\", result)"
   ]
  },
  {
   "cell_type": "code",
   "execution_count": 12,
   "metadata": {},
   "outputs": [
    {
     "output_type": "stream",
     "name": "stdout",
     "text": [
      "The most frequent number is 3 and it was 4 times repeated\n"
     ]
    }
   ],
   "source": [
    "# Assignment-007/1 (The Most Frequent Element)\n",
    "numbers = [1, 3, 7, 4, 3, 0, 3, 6, 3]\n",
    "b_1 = max(set(numbers), key = numbers.count)\n",
    "b_2 = numbers.count(b_1)\n",
    "print(\"The most frequent number is\", b_1, \"and it was\", b_2, \"times repeated\")"
   ]
  },
  {
   "cell_type": "code",
   "execution_count": 13,
   "metadata": {},
   "outputs": [
    {
     "output_type": "stream",
     "name": "stdout",
     "text": [
      "Total profit is :  13130\n"
     ]
    }
   ],
   "source": [
    "# Assignment-007/2 (Profit Calculation)\n",
    "sales = {\n",
    "  \"cost_value\": 31.87,\n",
    "  \"sell_value\": 45.00,\n",
    "  \"inventory\": 1000\n",
    "} \n",
    "total_profit = ((sales[\"sell_value\"] - sales[\"cost_value\"]) * sales[\"inventory\"])\n",
    "print(\"Total profit is : \", round(total_profit))  "
   ]
  },
  {
   "cell_type": "code",
   "execution_count": 13,
   "metadata": {},
   "outputs": [
    {
     "output_type": "stream",
     "name": "stdout",
     "text": [
      "$20.00\n"
     ]
    }
   ],
   "source": [
    "# Assignment-007/2 (Payrolls)\n",
    "money_amount = float(input(\"Enter amount of money : \"))\n",
    "print(\"$\" + \"{0:.2f}\".format(money_amount))"
   ]
  },
  {
   "cell_type": "code",
   "execution_count": 14,
   "metadata": {},
   "outputs": [
    {
     "output_type": "stream",
     "name": "stdout",
     "text": [
      "$3.00\n$29.99\n$4.10\n"
     ]
    }
   ],
   "source": [
    "a = [3.0, 29.99, 4.1]\n",
    "print(\"$\" + \"%.02f\" % a[0])\n",
    "print(\"$\" + \"%.02f\" % a[1])\n",
    "print(\"$\" + \"%.02f\" % a[2])"
   ]
  },
  {
   "cell_type": "code",
   "execution_count": 15,
   "metadata": {},
   "outputs": [
    {
     "output_type": "stream",
     "name": "stdout",
     "text": [
      "clausway\n"
     ]
    }
   ],
   "source": [
    "# CC-07 Python is due\n",
    "# Task-1 (String Methods)\n",
    "text_list = ['clarusway']\n",
    "n = 3\n",
    "print(text_list[0][0:n] + text_list[0][n+1:])"
   ]
  },
  {
   "cell_type": "code",
   "execution_count": 16,
   "metadata": {},
   "outputs": [
    {
     "output_type": "stream",
     "name": "stdout",
     "text": [
      "clausway\n"
     ]
    }
   ],
   "source": [
    "word = \"clarusway\"\n",
    "n = 3\n",
    "print(word.replace(word[n], \"\"))"
   ]
  },
  {
   "cell_type": "code",
   "execution_count": 17,
   "metadata": {},
   "outputs": [
    {
     "output_type": "stream",
     "name": "stdout",
     "text": [
      "Hello! I am a new programmer and I love Clarusway.\n"
     ]
    }
   ],
   "source": [
    "# Task-2 (String Methods)\n",
    "# Hello! I am a new programmer and I love Clarusway.\n",
    "print(\"{}! I am a {} programmer and I {} Clarusway.\".format(\"Hello\", \"new\", \"love\"))"
   ]
  },
  {
   "cell_type": "code",
   "execution_count": 18,
   "metadata": {},
   "outputs": [
    {
     "output_type": "stream",
     "name": "stdout",
     "text": [
      "I live in Sarajevo.\n"
     ]
    }
   ],
   "source": [
    "# Task-3 (f-Formatting)\n",
    "city = \"SARAJEVO\"\n",
    "text = f\"I live in {city.capitalize()}.\"\n",
    "print(text)"
   ]
  },
  {
   "cell_type": "code",
   "execution_count": 19,
   "metadata": {},
   "outputs": [
    {
     "output_type": "stream",
     "name": "stdout",
     "text": [
      "Comfort of the words is : True\n"
     ]
    }
   ],
   "source": [
    "# Assignment-007/3 (Comfortable Words)\n",
    "word = input(\"Enter the word : \")\n",
    "right_hand_letters = set('yhnujmıköolçpşğüi')\n",
    "left_hand_letters = set('qazwsxedcrfvtgb')\n",
    "word_letter = set(word.lower())\n",
    "print(\"Comfort of the words is :\", (len(word_letter.intersection(right_hand_letters)) != 0) and (len(word_letter.intersection(left_hand_letters)) != 0))\n"
   ]
  },
  {
   "cell_type": "code",
   "execution_count": null,
   "metadata": {},
   "outputs": [],
   "source": []
  }
 ]
}