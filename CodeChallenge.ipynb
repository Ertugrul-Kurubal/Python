{
 "metadata": {
  "language_info": {
   "codemirror_mode": {
    "name": "ipython",
    "version": 3
   },
   "file_extension": ".py",
   "mimetype": "text/x-python",
   "name": "python",
   "nbconvert_exporter": "python",
   "pygments_lexer": "ipython3",
   "version": "3.9.0"
  },
  "orig_nbformat": 2,
  "kernelspec": {
   "name": "python3",
   "display_name": "Python 3.9.0 64-bit"
  },
  "interpreter": {
   "hash": "43a9cd95aa030499ef934e4da31e07dde54f3fc3a1fd0cc4aeef7f16459ee2ac"
  }
 },
 "nbformat": 4,
 "nbformat_minor": 2,
 "cells": [
  {
   "cell_type": "code",
   "execution_count": 1,
   "source": [
    "print([])\r\n",
    "# Note: [], None,  0, 0.0, 0j, (), [], '', {} are Falsy"
   ],
   "outputs": [
    {
     "output_type": "stream",
     "name": "stdout",
     "text": [
      "[]\n"
     ]
    }
   ],
   "metadata": {}
  },
  {
   "cell_type": "code",
   "execution_count": 2,
   "source": [
    "print(True and [])"
   ],
   "outputs": [
    {
     "output_type": "stream",
     "name": "stdout",
     "text": [
      "[]\n"
     ]
    }
   ],
   "metadata": {}
  },
  {
   "cell_type": "code",
   "execution_count": 3,
   "source": [
    "print(False and {0})"
   ],
   "outputs": [
    {
     "output_type": "stream",
     "name": "stdout",
     "text": [
      "False\n"
     ]
    }
   ],
   "metadata": {}
  },
  {
   "cell_type": "code",
   "execution_count": 4,
   "source": [
    "print(False and {0} or [])"
   ],
   "outputs": [
    {
     "output_type": "stream",
     "name": "stdout",
     "text": [
      "[]\n"
     ]
    }
   ],
   "metadata": {}
  },
  {
   "cell_type": "code",
   "execution_count": 5,
   "source": [
    "text = \"Clarusway, Clarusway, Clarusway,\"\r\n",
    "print(text+\"\\n\"\"\\t\"+text+\"\\n\"\"\\t\"\"\\t\"+text.rstrip(\",\"))"
   ],
   "outputs": [
    {
     "output_type": "stream",
     "name": "stdout",
     "text": [
      "Clarusway, Clarusway, Clarusway,\n",
      "\tClarusway, Clarusway, Clarusway,\n",
      "\t\tClarusway, Clarusway, Clarusway\n"
     ]
    }
   ],
   "metadata": {}
  },
  {
   "cell_type": "code",
   "execution_count": 6,
   "source": [
    "# There are there variable (age = %33,3; chronic = %33,3; immune = %33,3)\r\n",
    "# We assume there are risk of death if true variable percent is more than percent 50.\r\n",
    "age = True  # Are you a cigarette addict older than 75 years old? True/False\r\n",
    "chronic = False  # Are you a cigarette addict older than 75 years old? True/False\r\n",
    "immune = True # Is your immune system too weak? True/False\r\n",
    "risk = ((age and chronic and immune) or ((age and chronic) or (age and immune) or (chronic and immune))) \r\n",
    "print(\"Result of risk of death :\",risk)"
   ],
   "outputs": [
    {
     "output_type": "stream",
     "name": "stdout",
     "text": [
      "Result of risk of death : True\n"
     ]
    }
   ],
   "metadata": {}
  },
  {
   "cell_type": "code",
   "execution_count": 7,
   "source": [
    "# The Profit Calculator\r\n",
    "amount = 1000\r\n",
    "daily_profit = 107/100  # 7% fixed profit daily for a week \r\n",
    "formula = daily_profit*((107/100)**6)\r\n",
    "print(\"Total amount:\", amount * formula)\r\n",
    "print(\"Total profit:\", amount * formula - amount)"
   ],
   "outputs": [
    {
     "output_type": "stream",
     "name": "stdout",
     "text": [
      "Total amount: 1605.7814764784307\n",
      "Total profit: 605.7814764784307\n"
     ]
    }
   ],
   "metadata": {}
  },
  {
   "cell_type": "code",
   "execution_count": 8,
   "source": [
    "# The Profit Calculator_2\r\n",
    "amount = 1000\r\n",
    "daily_profit = 107/100  # 7% fixed profit daily for a week \r\n",
    "formula = daily_profit*((107/100)**6)\r\n",
    "print(\"Total amount:\", round(amount * formula, 2))\r\n",
    "print(\"Total profit:\", round(amount * formula - amount, 2))"
   ],
   "outputs": [
    {
     "output_type": "stream",
     "name": "stdout",
     "text": [
      "Total amount: 1605.78\n",
      "Total profit: 605.78\n"
     ]
    }
   ],
   "metadata": {}
  },
  {
   "cell_type": "code",
   "execution_count": 9,
   "source": [
    "# Code Challenge 4 (Profit Calculator)\r\n",
    "deposit = 1000\r\n",
    "deposit = deposit + deposit*7/100 # 1st day of profit\r\n",
    "deposit = deposit + deposit*7/100 # 2nd day of profit\r\n",
    "deposit = deposit + deposit*7/100 # 3rd day of profit\r\n",
    "deposit = deposit + deposit*7/100 # 4th day of profit\r\n",
    "deposit = deposit + deposit*7/100 # 5th day of profit\r\n",
    "deposit = deposit + deposit*7/100 # 6th day of profit\r\n",
    "deposit = deposit + deposit*7/100 # 7th day of profit\r\n",
    "print(deposit)"
   ],
   "outputs": [
    {
     "output_type": "stream",
     "name": "stdout",
     "text": [
      "1605.78147647843\n"
     ]
    }
   ],
   "metadata": {}
  },
  {
   "cell_type": "code",
   "execution_count": 10,
   "source": [
    "# Code Challenge 5 (Covid 19 Risk)\r\n",
    "age = True\r\n",
    "immune = False\r\n",
    "chronic = True\r\n",
    "risk = age or immune or chronic\r\n",
    "print(risk)"
   ],
   "outputs": [
    {
     "output_type": "stream",
     "name": "stdout",
     "text": [
      "True\n"
     ]
    }
   ],
   "metadata": {}
  },
  {
   "cell_type": "code",
   "execution_count": 11,
   "source": [
    "# Task 1\r\n",
    "# Converting Celsius to Fahrenheit\r\n",
    "temp_value = int(input(\"Enter Celsius value : \"))\r\n",
    "result = ((float(temp_value) * 1.8) + 32.0)  # From formula F = ((C*1.8)+32)\r\n",
    "print(\"Fahrenheit :\", int(result))"
   ],
   "outputs": [
    {
     "output_type": "stream",
     "name": "stdout",
     "text": [
      "Fahrenheit : 68\n"
     ]
    }
   ],
   "metadata": {}
  },
  {
   "cell_type": "code",
   "execution_count": 12,
   "source": [
    "celcius = float(input(\"Enter the temperature as Celsius degree :\"))\r\n",
    "fahrenheit = (celcius *1.8) +32\r\n",
    "print(\"%0.1f degree Celcius is equal to %0.2f fahrenheit\" %(celcius, fahrenheit))"
   ],
   "outputs": [
    {
     "output_type": "stream",
     "name": "stdout",
     "text": [
      "20.0 degree Celcius is equal to 68.00 fahrenheit\n"
     ]
    }
   ],
   "metadata": {}
  },
  {
   "cell_type": "code",
   "execution_count": 13,
   "source": [
    "# Task 2\r\n",
    "# Converting Kilometer to Mile\r\n",
    "lenght = int(input(\"Enter Kilometer value : \"))\r\n",
    "result = (float(lenght) * 0.621)  # From 1 km = 0.62 mile\r\n",
    "print(\"Miles :\", int(result))"
   ],
   "outputs": [
    {
     "output_type": "stream",
     "name": "stdout",
     "text": [
      "Miles : 62\n"
     ]
    }
   ],
   "metadata": {}
  },
  {
   "cell_type": "code",
   "execution_count": 14,
   "source": [
    "# Assigment 5 Leap Year\r\n",
    "year = int(input(\" 4-digit enter a year : \"))\r\n",
    "result = (year % 400 == 0) or (not year % 100 == 0 and year % 4 == 0)\r\n",
    "print(\"Leap year :\", result)"
   ],
   "outputs": [
    {
     "output_type": "stream",
     "name": "stdout",
     "text": [
      "Leap year : False\n"
     ]
    }
   ],
   "metadata": {}
  },
  {
   "cell_type": "code",
   "execution_count": 15,
   "source": [
    "# Assignment-007/1 (The Most Frequent Element)\r\n",
    "numbers = [1, 3, 7, 4, 3, 0, 3, 6, 3]\r\n",
    "b_1 = max(set(numbers), key = numbers.count)\r\n",
    "b_2 = numbers.count(b_1)\r\n",
    "print(\"The most frequent number is\", b_1, \"and it was\", b_2, \"times repeated\")"
   ],
   "outputs": [
    {
     "output_type": "stream",
     "name": "stdout",
     "text": [
      "The most frequent number is 3 and it was 4 times repeated\n"
     ]
    }
   ],
   "metadata": {}
  },
  {
   "cell_type": "code",
   "execution_count": 16,
   "source": [
    "# Assignment-007/2 (Profit Calculation)\r\n",
    "sales = {\r\n",
    "  \"cost_value\": 31.87,\r\n",
    "  \"sell_value\": 45.00,\r\n",
    "  \"inventory\": 1000\r\n",
    "} \r\n",
    "total_profit = ((sales[\"sell_value\"] - sales[\"cost_value\"]) * sales[\"inventory\"])\r\n",
    "print(\"Total profit is : \", round(total_profit))  "
   ],
   "outputs": [
    {
     "output_type": "stream",
     "name": "stdout",
     "text": [
      "Total profit is :  13130\n"
     ]
    }
   ],
   "metadata": {}
  },
  {
   "cell_type": "code",
   "execution_count": 17,
   "source": [
    "# Assignment-007/2 (Payrolls)\r\n",
    "money_amount = float(input(\"Enter amount of money : \"))\r\n",
    "print(\"$\" + \"{0:.2f}\".format(money_amount))"
   ],
   "outputs": [
    {
     "output_type": "stream",
     "name": "stdout",
     "text": [
      "$30.00\n"
     ]
    }
   ],
   "metadata": {}
  },
  {
   "cell_type": "code",
   "execution_count": 18,
   "source": [
    "a = [3.0, 29.99, 4.1]\r\n",
    "print(\"$\" + \"%.02f\" % a[0])\r\n",
    "print(\"$\" + \"%.02f\" % a[1])\r\n",
    "print(\"$\" + \"%.02f\" % a[2])"
   ],
   "outputs": [
    {
     "output_type": "stream",
     "name": "stdout",
     "text": [
      "$3.00\n",
      "$29.99\n",
      "$4.10\n"
     ]
    }
   ],
   "metadata": {}
  },
  {
   "cell_type": "code",
   "execution_count": 19,
   "source": [
    "# CC-07 Python is due\r\n",
    "# Task-1 (String Methods)\r\n",
    "text_list = ['clarusway']\r\n",
    "n = 3\r\n",
    "print(text_list[0][0:n] + text_list[0][n+1:])"
   ],
   "outputs": [
    {
     "output_type": "stream",
     "name": "stdout",
     "text": [
      "clausway\n"
     ]
    }
   ],
   "metadata": {}
  },
  {
   "cell_type": "code",
   "execution_count": 20,
   "source": [
    "word = \"clarusway\"\r\n",
    "n = 3\r\n",
    "print(word.replace(word[n], \"\"))"
   ],
   "outputs": [
    {
     "output_type": "stream",
     "name": "stdout",
     "text": [
      "clausway\n"
     ]
    }
   ],
   "metadata": {}
  },
  {
   "cell_type": "code",
   "execution_count": 21,
   "source": [
    "# Task-2 (String Methods)\r\n",
    "# Hello! I am a new programmer and I love Clarusway.\r\n",
    "print(\"{}! I am a {} programmer and I {} Clarusway.\".format(\"Hello\", \"new\", \"love\"))"
   ],
   "outputs": [
    {
     "output_type": "stream",
     "name": "stdout",
     "text": [
      "Hello! I am a new programmer and I love Clarusway.\n"
     ]
    }
   ],
   "metadata": {}
  },
  {
   "cell_type": "code",
   "execution_count": 22,
   "source": [
    "# Task-3 (f-Formatting)\r\n",
    "city = \"SARAJEVO\"\r\n",
    "text = f\"I live in {city.capitalize()}.\"\r\n",
    "print(text)"
   ],
   "outputs": [
    {
     "output_type": "stream",
     "name": "stdout",
     "text": [
      "I live in Sarajevo.\n"
     ]
    }
   ],
   "metadata": {}
  },
  {
   "cell_type": "code",
   "execution_count": 1,
   "source": [
    "# Assignment-007/3 (Comfortable Words)\r\n",
    "word = input(\"Enter the word : \")\r\n",
    "right_hand_letters = set('yhnujmıköolçpşğüi')\r\n",
    "left_hand_letters = set('qazwsxedcrfvtgb')\r\n",
    "word_letter = set(word.lower())\r\n",
    "print(\"Comfort of the words is :\", (len(word_letter.intersection(right_hand_letters)) != 0) and (len(word_letter.intersection(left_hand_letters)) != 0))\r\n"
   ],
   "outputs": [
    {
     "output_type": "stream",
     "name": "stdout",
     "text": [
      "Comfort of the words is : False\n"
     ]
    }
   ],
   "metadata": {}
  },
  {
   "cell_type": "code",
   "execution_count": null,
   "source": [],
   "outputs": [],
   "metadata": {}
  }
 ]
}